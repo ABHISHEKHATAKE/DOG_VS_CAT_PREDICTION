{
  "nbformat": 4,
  "nbformat_minor": 0,
  "metadata": {
    "colab": {
      "provenance": [],
      "gpuType": "T4"
    },
    "kernelspec": {
      "name": "python3",
      "display_name": "Python 3"
    },
    "language_info": {
      "name": "python"
    },
    "accelerator": "GPU"
  },
  "cells": [
    {
      "cell_type": "code",
      "execution_count": null,
      "metadata": {
        "id": "d4GUMYN_Tirh"
      },
      "outputs": [],
      "source": [
        "!mkdir -p ~/.kaggle\n",
        "!cp kaggle.json ~/.kaggle/\n"
      ]
    },
    {
      "cell_type": "code",
      "source": [
        "!kaggle datasets download -d salader/dogs-vs-cats"
      ],
      "metadata": {
        "colab": {
          "base_uri": "https://localhost:8080/"
        },
        "id": "IxAM_SADT-xV",
        "outputId": "6f2b5d79-6e5c-4fc2-dd5b-f940ecabccca"
      },
      "execution_count": null,
      "outputs": [
        {
          "output_type": "stream",
          "name": "stdout",
          "text": [
            "Warning: Your Kaggle API key is readable by other users on this system! To fix this, you can run 'chmod 600 /root/.kaggle/kaggle.json'\n",
            "Dataset URL: https://www.kaggle.com/datasets/salader/dogs-vs-cats\n",
            "License(s): unknown\n"
          ]
        }
      ]
    },
    {
      "cell_type": "code",
      "source": [
        "import zipfile\n",
        "file=zipfile.ZipFile('dogs-vs-cats.zip','r')\n",
        "file.extractall()\n",
        "file.close()"
      ],
      "metadata": {
        "id": "KWA_iJ_eT-zD"
      },
      "execution_count": null,
      "outputs": []
    },
    {
      "cell_type": "code",
      "source": [
        "from keras.layers import Dense,Conv2D,Flatten,MaxPooling2D\n",
        "from keras.models import Sequential\n",
        "import keras\n",
        "import tensorflow as tf\n"
      ],
      "metadata": {
        "id": "DXfm98qgT-1E"
      },
      "execution_count": null,
      "outputs": []
    },
    {
      "cell_type": "code",
      "source": [
        "!pip install Augmentor\n",
        "import Augmentor"
      ],
      "metadata": {
        "id": "iO8aAC3-eO8l",
        "colab": {
          "base_uri": "https://localhost:8080/"
        },
        "outputId": "927a236c-8dc6-4323-b5d7-90f2ecd853ce"
      },
      "execution_count": null,
      "outputs": [
        {
          "output_type": "stream",
          "name": "stdout",
          "text": [
            "Collecting Augmentor\n",
            "  Downloading Augmentor-0.2.12-py2.py3-none-any.whl.metadata (1.3 kB)\n",
            "Requirement already satisfied: Pillow>=5.2.0 in /usr/local/lib/python3.11/dist-packages (from Augmentor) (11.1.0)\n",
            "Requirement already satisfied: tqdm>=4.9.0 in /usr/local/lib/python3.11/dist-packages (from Augmentor) (4.67.1)\n",
            "Requirement already satisfied: numpy>=1.11.0 in /usr/local/lib/python3.11/dist-packages (from Augmentor) (2.0.2)\n",
            "Downloading Augmentor-0.2.12-py2.py3-none-any.whl (38 kB)\n",
            "Installing collected packages: Augmentor\n",
            "Successfully installed Augmentor-0.2.12\n"
          ]
        }
      ]
    },
    {
      "cell_type": "code",
      "source": [
        "p=Augmentor.Pipeline('train/cats')\n",
        "p.zoom(probability=0.3,min_factor=0.8,max_factor=1.5)\n",
        "p.flip_top_bottom(probability=0.4)\n",
        "p.flip_left_right(probability=0.4)\n",
        "p.sample(1000)"
      ],
      "metadata": {
        "colab": {
          "base_uri": "https://localhost:8080/"
        },
        "id": "qUTCZaMUePD9",
        "outputId": "7cc84493-3fb6-4a75-c403-c73c980fc82a"
      },
      "execution_count": null,
      "outputs": [
        {
          "output_type": "stream",
          "name": "stdout",
          "text": [
            "Initialised with 10000 image(s) found.\n",
            "Output directory set to train/cats/output."
          ]
        },
        {
          "output_type": "stream",
          "name": "stderr",
          "text": [
            "Processing <PIL.Image.Image image mode=RGB size=241x230 at 0x7F6F246675D0>: 100%|██████████| 1000/1000 [00:06<00:00, 165.28 Samples/s]\n"
          ]
        }
      ]
    },
    {
      "cell_type": "code",
      "source": [
        "p=Augmentor.Pipeline('train/dogs')\n",
        "p.zoom(probability=0.3,min_factor=0.8,max_factor=1.5)\n",
        "p.flip_top_bottom(probability=0.4)\n",
        "p.flip_left_right(probability=0.4)\n",
        "p.sample(1000)"
      ],
      "metadata": {
        "colab": {
          "base_uri": "https://localhost:8080/"
        },
        "id": "jgn0zQDRfd8n",
        "outputId": "bc79aed9-34b1-412e-a7b2-ecc711b32fbe"
      },
      "execution_count": null,
      "outputs": [
        {
          "output_type": "stream",
          "name": "stdout",
          "text": [
            "Initialised with 10000 image(s) found.\n",
            "Output directory set to train/dogs/output."
          ]
        },
        {
          "output_type": "stream",
          "name": "stderr",
          "text": [
            "Processing <PIL.Image.Image image mode=RGB size=439x367 at 0x7F6F267D9190>: 100%|██████████| 1000/1000 [00:07<00:00, 129.58 Samples/s]\n"
          ]
        }
      ]
    },
    {
      "cell_type": "code",
      "source": [
        "import shutil\n",
        "import os\n",
        "\n",
        "# Source directory (where the files are currently located)\n",
        "source_dir = 'train/dogs/output'\n",
        "\n",
        "# Destination directory (where you want to move the files)\n",
        "destination_dir = 'train/dogs'\n",
        "\n",
        "# Iterate over all files and subdirectories in the source directory\n",
        "for filename in os.listdir(source_dir):\n",
        "    # Construct the full file paths for the source and destination\n",
        "    source_path = os.path.join(source_dir, filename)\n",
        "    destination_path = os.path.join(destination_dir, filename)\n",
        "\n",
        "    # Move the file\n",
        "    shutil.move(source_path, destination_path)\n",
        "\n",
        "print(\"All files moved successfully!\")"
      ],
      "metadata": {
        "colab": {
          "base_uri": "https://localhost:8080/"
        },
        "id": "pNknXDXehTVZ",
        "outputId": "c7291e7e-5b1b-49bc-8fc3-0c1d1a713b23"
      },
      "execution_count": null,
      "outputs": [
        {
          "output_type": "stream",
          "name": "stdout",
          "text": [
            "All files moved successfully!\n"
          ]
        }
      ]
    },
    {
      "cell_type": "code",
      "source": [
        "import shutil\n",
        "import os\n",
        "\n",
        "# Source directory (where the files are currently located)\n",
        "source_dir = 'train/cats/output'\n",
        "\n",
        "# Destination directory (where you want to move the files)\n",
        "destination_dir = 'train/cats'\n",
        "\n",
        "# Iterate over all files and subdirectories in the source directory\n",
        "for filename in os.listdir(source_dir):\n",
        "    # Construct the full file paths for the source and destination\n",
        "    source_path = os.path.join(source_dir, filename)\n",
        "    destination_path = os.path.join(destination_dir, filename)\n",
        "\n",
        "    # Move the file\n",
        "    shutil.move(source_path, destination_path)\n",
        "\n",
        "print(\"All files moved successfully!\")"
      ],
      "metadata": {
        "id": "6KHAmu9-hTjD",
        "colab": {
          "base_uri": "https://localhost:8080/"
        },
        "outputId": "e6a7cd97-c7ba-4d36-a8e9-46673515e6e6"
      },
      "execution_count": null,
      "outputs": [
        {
          "output_type": "stream",
          "name": "stdout",
          "text": [
            "All files moved successfully!\n"
          ]
        }
      ]
    },
    {
      "cell_type": "code",
      "source": [
        "X_train=keras.utils.image_dataset_from_directory(\n",
        "    directory='train',\n",
        "    labels='inferred',\n",
        "    label_mode='int',\n",
        "    batch_size=32,\n",
        "    image_size=(255,255)\n",
        ")"
      ],
      "metadata": {
        "id": "zvo9ti8FhTvG",
        "outputId": "3a430610-b5d3-4642-d30e-6914231505b6",
        "colab": {
          "base_uri": "https://localhost:8080/"
        }
      },
      "execution_count": null,
      "outputs": [
        {
          "output_type": "stream",
          "name": "stdout",
          "text": [
            "Found 22000 files belonging to 2 classes.\n"
          ]
        }
      ]
    },
    {
      "cell_type": "code",
      "source": [
        "X_test=keras.utils.image_dataset_from_directory(\n",
        "    directory='test',\n",
        "    labels='inferred',\n",
        "    label_mode='int',\n",
        "    batch_size=32,\n",
        "    image_size=(255,255)\n",
        ")\n"
      ],
      "metadata": {
        "id": "zf4T2wc1hT7F",
        "colab": {
          "base_uri": "https://localhost:8080/"
        },
        "outputId": "c299b168-9cb9-4ec6-cb7b-bb92829e47e9"
      },
      "execution_count": null,
      "outputs": [
        {
          "output_type": "stream",
          "name": "stdout",
          "text": [
            "Found 5000 files belonging to 2 classes.\n"
          ]
        }
      ]
    },
    {
      "cell_type": "code",
      "source": [
        "len(X_test)"
      ],
      "metadata": {
        "colab": {
          "base_uri": "https://localhost:8080/"
        },
        "id": "5DSaXwZCfVeu",
        "outputId": "ebad693d-0125-480a-aa0c-aa807215f244"
      },
      "execution_count": null,
      "outputs": [
        {
          "output_type": "execute_result",
          "data": {
            "text/plain": [
              "157"
            ]
          },
          "metadata": {},
          "execution_count": 28
        }
      ]
    },
    {
      "cell_type": "code",
      "source": [
        "def process(image,label):\n",
        "  image=tf.cast(image/255.0,tf.float32)\n",
        "  return image,label"
      ],
      "metadata": {
        "id": "KhVAA0rbT-9N"
      },
      "execution_count": null,
      "outputs": []
    },
    {
      "cell_type": "code",
      "source": [
        "X_train=X_train.map(process)\n",
        "X_test=X_test.map(process)"
      ],
      "metadata": {
        "id": "gwFr8X2xT_Dp"
      },
      "execution_count": null,
      "outputs": []
    },
    {
      "cell_type": "code",
      "source": [
        "model=Sequential()"
      ],
      "metadata": {
        "id": "Ck3iU6KwWBg5"
      },
      "execution_count": null,
      "outputs": []
    },
    {
      "cell_type": "code",
      "source": [
        "model.add(Conv2D(32,(3,3),padding='same',activation='relu',input_shape=(255,255,3)))\n",
        "model.add(MaxPooling2D((2,2)))\n",
        "model.add(Conv2D(64,(3,3),padding='same',activation='relu'))\n",
        "model.add(MaxPooling2D((2,2)))\n",
        "model.add(Conv2D(128,(3,3),padding='same',activation='relu'))\n",
        "model.add(MaxPooling2D((2,2)))\n",
        "model.add(Flatten())\n",
        "model.add(Dense(128,activation='relu'))\n",
        "model.add(Dense(1,activation='sigmoid'))"
      ],
      "metadata": {
        "id": "5Gt0ihvHWBjx",
        "colab": {
          "base_uri": "https://localhost:8080/"
        },
        "outputId": "2d41d23e-fb77-4edd-c97f-5a9b93e71c91"
      },
      "execution_count": null,
      "outputs": [
        {
          "output_type": "stream",
          "name": "stderr",
          "text": [
            "/usr/local/lib/python3.11/dist-packages/keras/src/layers/convolutional/base_conv.py:107: UserWarning: Do not pass an `input_shape`/`input_dim` argument to a layer. When using Sequential models, prefer using an `Input(shape)` object as the first layer in the model instead.\n",
            "  super().__init__(activity_regularizer=activity_regularizer, **kwargs)\n"
          ]
        }
      ]
    },
    {
      "cell_type": "code",
      "source": [
        "model.compile(optimizer='adam',loss='binary_crossentropy',metrics=['accuracy'])"
      ],
      "metadata": {
        "id": "YxHN2uFSWBmL"
      },
      "execution_count": null,
      "outputs": []
    },
    {
      "cell_type": "code",
      "source": [
        "model.fit(X_train,validation_data=X_test,epochs=5)"
      ],
      "metadata": {
        "colab": {
          "base_uri": "https://localhost:8080/"
        },
        "id": "1D55M2XXWBok",
        "outputId": "d575e25b-4d3d-40d9-d5ea-a812487ef3fa"
      },
      "execution_count": null,
      "outputs": [
        {
          "output_type": "stream",
          "name": "stdout",
          "text": [
            "Epoch 1/5\n",
            "\u001b[1m688/688\u001b[0m \u001b[32m━━━━━━━━━━━━━━━━━━━━\u001b[0m\u001b[37m\u001b[0m \u001b[1m62s\u001b[0m 77ms/step - accuracy: 0.5492 - loss: 0.7779 - val_accuracy: 0.6830 - val_loss: 0.5973\n",
            "Epoch 2/5\n",
            "\u001b[1m688/688\u001b[0m \u001b[32m━━━━━━━━━━━━━━━━━━━━\u001b[0m\u001b[37m\u001b[0m \u001b[1m75s\u001b[0m 77ms/step - accuracy: 0.7173 - loss: 0.5584 - val_accuracy: 0.7702 - val_loss: 0.4969\n",
            "Epoch 3/5\n",
            "\u001b[1m688/688\u001b[0m \u001b[32m━━━━━━━━━━━━━━━━━━━━\u001b[0m\u001b[37m\u001b[0m \u001b[1m80s\u001b[0m 74ms/step - accuracy: 0.8021 - loss: 0.4184 - val_accuracy: 0.7660 - val_loss: 0.5971\n",
            "Epoch 4/5\n",
            "\u001b[1m688/688\u001b[0m \u001b[32m━━━━━━━━━━━━━━━━━━━━\u001b[0m\u001b[37m\u001b[0m \u001b[1m81s\u001b[0m 74ms/step - accuracy: 0.8988 - loss: 0.2504 - val_accuracy: 0.7752 - val_loss: 0.8215\n",
            "Epoch 5/5\n",
            "\u001b[1m688/688\u001b[0m \u001b[32m━━━━━━━━━━━━━━━━━━━━\u001b[0m\u001b[37m\u001b[0m \u001b[1m51s\u001b[0m 74ms/step - accuracy: 0.9545 - loss: 0.1207 - val_accuracy: 0.7774 - val_loss: 0.9052\n"
          ]
        },
        {
          "output_type": "execute_result",
          "data": {
            "text/plain": [
              "<keras.src.callbacks.history.History at 0x7f6f26bdd410>"
            ]
          },
          "metadata": {},
          "execution_count": 34
        }
      ]
    },
    {
      "cell_type": "code",
      "source": [
        "\n",
        "def catordog(m1):\n",
        "   if m1>0.5:\n",
        "      return 'dog'\n",
        "   else:\n",
        "      return 'cat'"
      ],
      "metadata": {
        "id": "8q1KDG7jXrGm"
      },
      "execution_count": null,
      "outputs": []
    },
    {
      "cell_type": "code",
      "source": [
        "import pickle"
      ],
      "metadata": {
        "id": "RPE4Yx7ocv4u"
      },
      "execution_count": null,
      "outputs": []
    },
    {
      "cell_type": "code",
      "source": [
        "pickle.dump(model,open('catvsdog.pkl','wb'))"
      ],
      "metadata": {
        "id": "pzvPScRJhA1_"
      },
      "execution_count": null,
      "outputs": []
    },
    {
      "cell_type": "code",
      "source": [
        "model2=pickle.load(open('catvsdog.pkl','rb'))"
      ],
      "metadata": {
        "id": "I4IEEhf-6n4f"
      },
      "execution_count": null,
      "outputs": []
    },
    {
      "cell_type": "code",
      "source": [
        "import cv2\n",
        "def image_to_array(path):\n",
        "  img=cv2.imread(path)\n",
        "  img=cv2.resize(img,(255,255))\n",
        "  img=img.reshape((1,255,255,3))\n",
        "  img=img/255.0\n",
        "  return img"
      ],
      "metadata": {
        "id": "9dHYYNgNhBAr"
      },
      "execution_count": null,
      "outputs": []
    },
    {
      "cell_type": "code",
      "source": [
        "resent_model=Sequential()"
      ],
      "metadata": {
        "id": "qQsRHltOVDyf"
      },
      "execution_count": null,
      "outputs": []
    },
    {
      "cell_type": "code",
      "source": [
        "pretrained_model=tf.keras.applications.ResNet50(include_top=False,\n",
        "                                                input_shape=(255,255,3),\n",
        "                                                pooling='avg',classes=2,\n",
        "                                                weights='imagenet')\n",
        "for layers in pretrained_model.layers:\n",
        "  layers.trainable=False\n",
        "resent_model.add(pretrained_model)\n",
        "resent_model.add(Flatten())\n",
        "resent_model.add(Dense(32,activation='relu'))\n",
        "resent_model.add(Dense(1,activation='sigmoid'))"
      ],
      "metadata": {
        "colab": {
          "base_uri": "https://localhost:8080/"
        },
        "id": "oGA2jGCPVD1f",
        "outputId": "0d6c7884-2002-4953-d2b1-100e7f2b926c"
      },
      "execution_count": null,
      "outputs": [
        {
          "output_type": "stream",
          "name": "stdout",
          "text": [
            "Downloading data from https://storage.googleapis.com/tensorflow/keras-applications/resnet/resnet50_weights_tf_dim_ordering_tf_kernels_notop.h5\n",
            "\u001b[1m94765736/94765736\u001b[0m \u001b[32m━━━━━━━━━━━━━━━━━━━━\u001b[0m\u001b[37m\u001b[0m \u001b[1m5s\u001b[0m 0us/step\n"
          ]
        }
      ]
    },
    {
      "cell_type": "code",
      "source": [
        "resent_model.compile(optimizer='adam',loss='binary_crossentropy',metrics=['accuracy'])"
      ],
      "metadata": {
        "id": "AB9y0zJgVD3q"
      },
      "execution_count": null,
      "outputs": []
    },
    {
      "cell_type": "code",
      "source": [
        "resent_model.fit(X_train,validation_data=X_test,epochs=5)"
      ],
      "metadata": {
        "colab": {
          "base_uri": "https://localhost:8080/"
        },
        "id": "QwmuCj2HVD6w",
        "outputId": "f21fa49b-3ab7-41b2-8503-314cec15fc19"
      },
      "execution_count": null,
      "outputs": [
        {
          "output_type": "stream",
          "name": "stdout",
          "text": [
            "Epoch 1/5\n",
            "\u001b[1m688/688\u001b[0m \u001b[32m━━━━━━━━━━━━━━━━━━━━\u001b[0m\u001b[37m\u001b[0m \u001b[1m108s\u001b[0m 138ms/step - accuracy: 0.5719 - loss: 0.6795 - val_accuracy: 0.6330 - val_loss: 0.6403\n",
            "Epoch 2/5\n",
            "\u001b[1m688/688\u001b[0m \u001b[32m━━━━━━━━━━━━━━━━━━━━\u001b[0m\u001b[37m\u001b[0m \u001b[1m89s\u001b[0m 129ms/step - accuracy: 0.6267 - loss: 0.6438 - val_accuracy: 0.6434 - val_loss: 0.6295\n",
            "Epoch 3/5\n",
            "\u001b[1m688/688\u001b[0m \u001b[32m━━━━━━━━━━━━━━━━━━━━\u001b[0m\u001b[37m\u001b[0m \u001b[1m136s\u001b[0m 121ms/step - accuracy: 0.6273 - loss: 0.6411 - val_accuracy: 0.6002 - val_loss: 0.6668\n",
            "Epoch 4/5\n",
            "\u001b[1m688/688\u001b[0m \u001b[32m━━━━━━━━━━━━━━━━━━━━\u001b[0m\u001b[37m\u001b[0m \u001b[1m147s\u001b[0m 129ms/step - accuracy: 0.6298 - loss: 0.6397 - val_accuracy: 0.6122 - val_loss: 0.6429\n",
            "Epoch 5/5\n",
            "\u001b[1m688/688\u001b[0m \u001b[32m━━━━━━━━━━━━━━━━━━━━\u001b[0m\u001b[37m\u001b[0m \u001b[1m89s\u001b[0m 129ms/step - accuracy: 0.6406 - loss: 0.6295 - val_accuracy: 0.6560 - val_loss: 0.6198\n"
          ]
        },
        {
          "output_type": "execute_result",
          "data": {
            "text/plain": [
              "<keras.src.callbacks.history.History at 0x7f6f2516bad0>"
            ]
          },
          "metadata": {},
          "execution_count": 43
        }
      ]
    },
    {
      "cell_type": "code",
      "source": [
        "img=image_to_array('download.jpeg')"
      ],
      "metadata": {
        "id": "-jNkbXdRVD98"
      },
      "execution_count": null,
      "outputs": []
    },
    {
      "cell_type": "code",
      "source": [
        "resent_pred=resent_model.predict(img)\n",
        "normal_pred=model.predict(img)\n",
        "print(\"Resent model prediction : \",catordog(resent_pred))\n",
        "print(\"Nomral model predicition : \",catordog(normal_pred))"
      ],
      "metadata": {
        "colab": {
          "base_uri": "https://localhost:8080/"
        },
        "id": "dpc9a25pYRoK",
        "outputId": "f04b1436-1cd0-4330-b9a3-c0a6015a1bae"
      },
      "execution_count": null,
      "outputs": [
        {
          "output_type": "stream",
          "name": "stdout",
          "text": [
            "\u001b[1m1/1\u001b[0m \u001b[32m━━━━━━━━━━━━━━━━━━━━\u001b[0m\u001b[37m\u001b[0m \u001b[1m0s\u001b[0m 43ms/step\n",
            "\u001b[1m1/1\u001b[0m \u001b[32m━━━━━━━━━━━━━━━━━━━━\u001b[0m\u001b[37m\u001b[0m \u001b[1m0s\u001b[0m 29ms/step\n",
            "Resent model prediction :  cat\n",
            "Nomral model predicition :  cat\n"
          ]
        }
      ]
    },
    {
      "cell_type": "code",
      "source": [
        "import pickle\n",
        "pickle.dump(resent_pred,open('catvsdog_resent.pkl','wb'))\n",
        "pickle.dump(normal_pred,open('catvsdog_normal.pkl','wb'))"
      ],
      "metadata": {
        "id": "0BtLccp7YRuo"
      },
      "execution_count": null,
      "outputs": []
    },
    {
      "cell_type": "code",
      "source": [],
      "metadata": {
        "id": "gCeZvzawNmGG"
      },
      "execution_count": null,
      "outputs": []
    },
    {
      "cell_type": "code",
      "source": [],
      "metadata": {
        "id": "VQmslOQtNmPP"
      },
      "execution_count": null,
      "outputs": []
    }
  ]
}